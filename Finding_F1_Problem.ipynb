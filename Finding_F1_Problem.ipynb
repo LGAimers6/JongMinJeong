{
 "cells": [
  {
   "cell_type": "code",
   "execution_count": 519,
   "id": "6ab46b3f-090f-454d-a935-53544df896c1",
   "metadata": {},
   "outputs": [],
   "source": [
    "import pandas as pd\n",
    "df = pd.read_csv(r'C:\\Users\\User\\LG_Aimers\\MainTask\\train.csv')"
   ]
  },
  {
   "cell_type": "code",
   "execution_count": 521,
   "id": "2e588cb5-448e-4723-b898-3db2c67ddcfb",
   "metadata": {},
   "outputs": [],
   "source": [
    "df = df[[\n",
    "                    '시술 시기 코드',\n",
    "                    '시술 당시 나이',\n",
    "                    '시술 유형',\n",
    "                    '특정 시술 유형',\n",
    "                    '배란 자극 여부',\n",
    "                    '이식된 배아 수',\n",
    "                    '단일 배아 이식 여부',\n",
    "                    '착상 전 유전 검사 사용 여부',\n",
    "                    '착상 전 유전 진단 사용 여부',\n",
    "                    #네이쳐지에서는 Infertility Cause Feature에서\n",
    "                    #Cause of Infertility - Endometriosis같은 3~4개정도의 Feature는 제외했던데 \n",
    "                    #Frontier에서는 ML로 결측치 처리하니까 되도록 다양한 Feature를 넣을 것을 권장\n",
    "                    #상황에 따라서 빼거나 넣기\n",
    "                    '남성 주 불임 원인',\n",
    "                    '남성 부 불임 원인',\n",
    "                    '여성 주 불임 원인',\n",
    "                    '여성 부 불임 원인',\n",
    "                    '부부 주 불임 원인',\n",
    "                    '부부 부 불임 원인',\n",
    "                    '불명확 불임 원인',\n",
    "                    '불임 원인 - 난관 질환',\n",
    "                    '불임 원인 - 남성 요인',\n",
    "                    '불임 원인 - 배란 장애',\n",
    "                    '불임 원인 - 여성 요인',\n",
    "                    '불임 원인 - 자궁경부 문제',\n",
    "                    '불임 원인 - 자궁내막증',\n",
    "                    '불임 원인 - 정자 면역학적 요인',\n",
    "                    '불임 원인 - 정자 운동성',\n",
    "                    '불임 원인 - 정자 형태',                       \n",
    "                    #------------------------------------------------------\n",
    "                    \n",
    "                    '총 시술 횟수',\n",
    "                    '클리닉 내 총 시술 횟수',\n",
    "                    'IVF 시술 횟수',\n",
    "                    'DI 시술 횟수',\n",
    "                    '총 임신 횟수',\n",
    "                    'IVF 임신 횟수',\n",
    "                    'DI 임신 횟수',\n",
    "                    '총 출산 횟수',\n",
    "                    'IVF 출산 횟수',\n",
    "                    'DI 출산 횟수',\n",
    "                    '총 생성 배아 수',\n",
    "                    '미세주입된 난자 수',\n",
    "                    '미세주입에서 생성된 배아 수',\n",
    "                    '이식된 배아 수',\n",
    "                    '미세주입 배아 이식 수',\n",
    "                    '저장된 배아 수',\n",
    "                    '미세주입 후 저장된 배아 수',\n",
    "                    '해동된 배아 수',\n",
    "                    '해동 난자 수',\n",
    "                    '수집된 신선 난자 수',\n",
    "                    '저장된 신선 난자 수',\n",
    "                    '혼합된 난자 수',\n",
    "                    '파트너 정자와 혼합된 난자 수',\n",
    "                    '기증자 정자와 혼합된 난자 수',\n",
    "                    '난자 출처',\n",
    "                    '정자 출처',\n",
    "                    '난자 기증자 나이',\n",
    "                    '정자 기증자 나이',\n",
    "                    '동결 배아 사용 여부',\n",
    "                    '신선 배아 사용 여부',\n",
    "                    '기증 배아 사용 여부',\n",
    "                    '대리모 여부',\n",
    "                    #경우에 따라서 삭제 or 삽입\n",
    "                    'PGD 시술 여부',\n",
    "                    'PGS 시술 여부',\n",
    "                    #---------------------------\n",
    "                    '난자 채취 경과일',\n",
    "                    #경우에 따라서 삭제 or 삽입\n",
    "                    '난자 해동 경과일',\n",
    "                    #---------------------------\n",
    "                    '난자 혼합 경과일',\n",
    "                    '배아 이식 경과일',\n",
    "                    #경우에 따라서 삭제 or 삽입\n",
    "                    '배아 해동 경과일',\n",
    "                    #---------------------------\n",
    "                    '임신 성공 여부'\n",
    "                  ]]"
   ]
  },
  {
   "cell_type": "code",
   "execution_count": 523,
   "id": "25059f9a-555a-4014-8aa1-1f3e7772e75b",
   "metadata": {},
   "outputs": [],
   "source": [
    "age_map = {\n",
    "    \"만18-34세\": 0,\n",
    "    \"만35-37세\": 1,\n",
    "    \"만38-39세\": 2,\n",
    "    \"만40-42세\": 3,\n",
    "    \"만43-44세\": 4,\n",
    "    \"만45-50세\": 5\n",
    "}\n",
    "\n",
    "df['시술 당시 나이'] = df['시술 당시 나이'].map(age_map)"
   ]
  },
  {
   "cell_type": "code",
   "execution_count": 525,
   "id": "d5255ba2-ab4d-4ca7-acb0-777d1284aa06",
   "metadata": {},
   "outputs": [
    {
     "name": "stderr",
     "output_type": "stream",
     "text": [
      "C:\\Users\\User\\AppData\\Local\\Temp\\ipykernel_27120\\2526258928.py:4: FutureWarning: A value is trying to be set on a copy of a DataFrame or Series through chained assignment using an inplace method.\n",
      "The behavior will change in pandas 3.0. This inplace method will never work because the intermediate object on which we are setting values always behaves as a copy.\n",
      "\n",
      "For example, when doing 'df[col].method(value, inplace=True)', try using 'df.method({col: value}, inplace=True)' or df[col] = df[col].method(value) instead, to perform the operation inplace on the original object.\n",
      "\n",
      "\n",
      "  df['시술 당시 나이'].fillna(most_frequent, inplace=True)\n"
     ]
    }
   ],
   "source": [
    "#범주형 데이터는 최빈값(Mode)으로 채우는 것이 일반적 -> Nan 329개 최빈값으로 채우기\n",
    "#결측치는 0.133%라 매우 미묘할 것으로 판단 \n",
    "most_frequent = df['시술 당시 나이'].mode()[0]  # 최빈값 찾기\n",
    "df['시술 당시 나이'].fillna(most_frequent, inplace=True)"
   ]
  },
  {
   "cell_type": "code",
   "execution_count": 527,
   "id": "059510a8-3bf1-404d-8e41-9472f84dd81a",
   "metadata": {},
   "outputs": [],
   "source": [
    "#배아 이식 경과일은 target correlation이 높음 -> \n",
    "#논문에서 상대적으로 정확성이 괜찮았던 K-NN Imputation으로 결측치 대체 \n",
    "\n",
    "#0~7까지이며 7.0은 매우 소수이므로 neighbor=6으로 설정 \n",
    "import pandas as pd\n",
    "from sklearn.impute import KNNImputer\n",
    "\n",
    "# K-NN Imputation 수행\n",
    "df_numeric = df[['배아 이식 경과일']]\n",
    "imputer = KNNImputer(n_neighbors=6)\n",
    "df[['배아 이식 경과일']] = imputer.fit_transform(df_numeric)"
   ]
  },
  {
   "cell_type": "code",
   "execution_count": 529,
   "id": "27700447-6068-449c-b90f-50e917b1b1b4",
   "metadata": {},
   "outputs": [
    {
     "data": {
      "text/plain": [
       "배아 이식 경과일\n",
       "5.000000    81459\n",
       "3.000000    57924\n",
       "3.254741    43566\n",
       "2.000000    35078\n",
       "0.000000    24904\n",
       "1.000000     6053\n",
       "4.000000     4504\n",
       "6.000000     2773\n",
       "7.000000       90\n",
       "Name: count, dtype: int64"
      ]
     },
     "execution_count": 529,
     "metadata": {},
     "output_type": "execute_result"
    }
   ],
   "source": [
    "#다른 column등을 고려한 3.254741이 결측치로 채워졌음을 알 수 있음\n",
    "df['배아 이식 경과일'].value_counts(dropna=False)"
   ]
  },
  {
   "cell_type": "code",
   "execution_count": 531,
   "id": "d3fdecc1-6dea-451e-9e92-295642c29937",
   "metadata": {},
   "outputs": [
    {
     "data": {
      "text/plain": [
       "시술 시기 코드\n",
       "TRDQAZ    38969\n",
       "TRCMWS    38090\n",
       "TRYBLT    36713\n",
       "TRVNRY    36173\n",
       "TRJXFG    36031\n",
       "TRZKPL    35544\n",
       "TRXQMD    34831\n",
       "Name: count, dtype: int64"
      ]
     },
     "execution_count": 531,
     "metadata": {},
     "output_type": "execute_result"
    }
   ],
   "source": [
    "#GPT / Claude 동시추천\n",
    "#시술 시기 코드는 target encoding으로 전처리\n",
    "#각 시술 코드의 성공률을 기반으로 수치화\n",
    "#성공률이라는 실제 의미 있는 정보를 활용할 수 있음\n",
    "#과적합 방지를 위해 cross-validation 기반의 target encoding 권장\n",
    "df['시술 시기 코드'].value_counts(dropna=False)"
   ]
  },
  {
   "cell_type": "code",
   "execution_count": 533,
   "id": "fabd1c8d-14fb-426d-894d-996f655466af",
   "metadata": {},
   "outputs": [],
   "source": [
    "import pandas as pd\n",
    "import numpy as np\n",
    "from sklearn.preprocessing import LabelEncoder, OneHotEncoder\n",
    "from category_encoders import TargetEncoder\n",
    "te = TargetEncoder()\n",
    "df['시술 시기 코드'] = te.fit_transform(df['시술 시기 코드'], df['임신 성공 여부'])"
   ]
  },
  {
   "cell_type": "code",
   "execution_count": 535,
   "id": "2bc09b74-68bc-4209-b706-cc9550e43721",
   "metadata": {},
   "outputs": [],
   "source": [
    "df['총 시술 횟수'] = pd.to_numeric(df['총 시술 횟수'], errors='coerce').fillna(0).astype(int)\n",
    "df['클리닉 내 총 시술 횟수'] = pd.to_numeric(df['클리닉 내 총 시술 횟수'], errors='coerce').fillna(0).astype(int)\n",
    "df['IVF 시술 횟수'] = pd.to_numeric(df['IVF 시술 횟수'], errors='coerce').fillna(0).astype(int)\n",
    "df['DI 시술 횟수'] = pd.to_numeric(df['DI 시술 횟수'], errors='coerce').fillna(0).astype(int)\n",
    "df['총 임신 횟수'] = pd.to_numeric(df['총 임신 횟수'], errors='coerce').fillna(0).astype(int)\n",
    "df['IVF 임신 횟수'] = pd.to_numeric(df['IVF 임신 횟수'], errors='coerce').fillna(0).astype(int)\n",
    "df['DI 임신 횟수'] = pd.to_numeric(df['DI 임신 횟수'], errors='coerce').fillna(0).astype(int)\n",
    "df['총 출산 횟수'] = pd.to_numeric(df['총 출산 횟수'], errors='coerce').fillna(0).astype(int)\n",
    "df['IVF 출산 횟수'] = pd.to_numeric(df['IVF 출산 횟수'], errors='coerce').fillna(0).astype(int)\n",
    "df['DI 출산 횟수'] = pd.to_numeric(df['DI 출산 횟수'], errors='coerce').fillna(0).astype(int)"
   ]
  },
  {
   "cell_type": "code",
   "execution_count": 536,
   "id": "d2ed71a4-89ea-4fa4-aaa1-1a712185123a",
   "metadata": {},
   "outputs": [],
   "source": [
    "df.to_csv('saving.csv',encoding='utf-8-sig')"
   ]
  },
  {
   "cell_type": "code",
   "execution_count": 537,
   "id": "7685cad3-3702-46ac-b2fc-565c96e43271",
   "metadata": {},
   "outputs": [],
   "source": [
    "df = df.drop(columns=['난자 출처','정자 출처','난자 기증자 나이','정자 기증자 나이'])"
   ]
  },
  {
   "cell_type": "code",
   "execution_count": 538,
   "id": "f9a8b75b-1f94-4b2d-a7f5-db3f789d330a",
   "metadata": {},
   "outputs": [],
   "source": [
    "df = df.drop(columns=['특정 시술 유형'])"
   ]
  },
  {
   "cell_type": "code",
   "execution_count": 539,
   "id": "06110aa0-823f-42f0-a833-ab7ef84d2478",
   "metadata": {},
   "outputs": [],
   "source": [
    "from sklearn.preprocessing import LabelEncoder\n",
    "\n",
    "label_encoder = LabelEncoder()\n",
    "\n",
    "df['시술 유형'] = label_encoder.fit_transform(df['시술 유형'])\n"
   ]
  },
  {
   "cell_type": "code",
   "execution_count": 594,
   "id": "56fad4d2-952d-4eb0-b3a4-3b506482fe4c",
   "metadata": {},
   "outputs": [
    {
     "ename": "ValueError",
     "evalue": "Must specify a fill 'value' or 'method'.",
     "output_type": "error",
     "traceback": [
      "\u001b[1;31m---------------------------------------------------------------------------\u001b[0m",
      "\u001b[1;31mValueError\u001b[0m                                Traceback (most recent call last)",
      "Cell \u001b[1;32mIn[594], line 1\u001b[0m\n\u001b[1;32m----> 1\u001b[0m df \u001b[38;5;241m=\u001b[39m \u001b[43mdf\u001b[49m\u001b[38;5;241;43m.\u001b[39;49m\u001b[43mfillna\u001b[49m\u001b[43m(\u001b[49m\u001b[43m)\u001b[49m\n",
      "File \u001b[1;32m~\\anaconda3\\Lib\\site-packages\\pandas\\core\\generic.py:7293\u001b[0m, in \u001b[0;36mNDFrame.fillna\u001b[1;34m(self, value, method, axis, inplace, limit, downcast)\u001b[0m\n\u001b[0;32m   7286\u001b[0m         \u001b[38;5;28;01mif\u001b[39;00m ctr \u001b[38;5;241m<\u001b[39m\u001b[38;5;241m=\u001b[39m ref_count:\n\u001b[0;32m   7287\u001b[0m             warnings\u001b[38;5;241m.\u001b[39mwarn(\n\u001b[0;32m   7288\u001b[0m                 _chained_assignment_warning_method_msg,\n\u001b[0;32m   7289\u001b[0m                 \u001b[38;5;167;01mFutureWarning\u001b[39;00m,\n\u001b[0;32m   7290\u001b[0m                 stacklevel\u001b[38;5;241m=\u001b[39m\u001b[38;5;241m2\u001b[39m,\n\u001b[0;32m   7291\u001b[0m             )\n\u001b[1;32m-> 7293\u001b[0m value, method \u001b[38;5;241m=\u001b[39m \u001b[43mvalidate_fillna_kwargs\u001b[49m\u001b[43m(\u001b[49m\u001b[43mvalue\u001b[49m\u001b[43m,\u001b[49m\u001b[43m \u001b[49m\u001b[43mmethod\u001b[49m\u001b[43m)\u001b[49m\n\u001b[0;32m   7294\u001b[0m \u001b[38;5;28;01mif\u001b[39;00m method \u001b[38;5;129;01mis\u001b[39;00m \u001b[38;5;129;01mnot\u001b[39;00m \u001b[38;5;28;01mNone\u001b[39;00m:\n\u001b[0;32m   7295\u001b[0m     warnings\u001b[38;5;241m.\u001b[39mwarn(\n\u001b[0;32m   7296\u001b[0m         \u001b[38;5;124mf\u001b[39m\u001b[38;5;124m\"\u001b[39m\u001b[38;5;132;01m{\u001b[39;00m\u001b[38;5;28mtype\u001b[39m(\u001b[38;5;28mself\u001b[39m)\u001b[38;5;241m.\u001b[39m\u001b[38;5;18m__name__\u001b[39m\u001b[38;5;132;01m}\u001b[39;00m\u001b[38;5;124m.fillna with \u001b[39m\u001b[38;5;124m'\u001b[39m\u001b[38;5;124mmethod\u001b[39m\u001b[38;5;124m'\u001b[39m\u001b[38;5;124m is deprecated and \u001b[39m\u001b[38;5;124m\"\u001b[39m\n\u001b[0;32m   7297\u001b[0m         \u001b[38;5;124m\"\u001b[39m\u001b[38;5;124mwill raise in a future version. Use obj.ffill() or obj.bfill() \u001b[39m\u001b[38;5;124m\"\u001b[39m\n\u001b[1;32m   (...)\u001b[0m\n\u001b[0;32m   7300\u001b[0m         stacklevel\u001b[38;5;241m=\u001b[39mfind_stack_level(),\n\u001b[0;32m   7301\u001b[0m     )\n",
      "File \u001b[1;32m~\\anaconda3\\Lib\\site-packages\\pandas\\util\\_validators.py:293\u001b[0m, in \u001b[0;36mvalidate_fillna_kwargs\u001b[1;34m(value, method, validate_scalar_dict_value)\u001b[0m\n\u001b[0;32m    290\u001b[0m \u001b[38;5;28;01mfrom\u001b[39;00m\u001b[38;5;250m \u001b[39m\u001b[38;5;21;01mpandas\u001b[39;00m\u001b[38;5;21;01m.\u001b[39;00m\u001b[38;5;21;01mcore\u001b[39;00m\u001b[38;5;21;01m.\u001b[39;00m\u001b[38;5;21;01mmissing\u001b[39;00m\u001b[38;5;250m \u001b[39m\u001b[38;5;28;01mimport\u001b[39;00m clean_fill_method\n\u001b[0;32m    292\u001b[0m \u001b[38;5;28;01mif\u001b[39;00m value \u001b[38;5;129;01mis\u001b[39;00m \u001b[38;5;28;01mNone\u001b[39;00m \u001b[38;5;129;01mand\u001b[39;00m method \u001b[38;5;129;01mis\u001b[39;00m \u001b[38;5;28;01mNone\u001b[39;00m:\n\u001b[1;32m--> 293\u001b[0m     \u001b[38;5;28;01mraise\u001b[39;00m \u001b[38;5;167;01mValueError\u001b[39;00m(\u001b[38;5;124m\"\u001b[39m\u001b[38;5;124mMust specify a fill \u001b[39m\u001b[38;5;124m'\u001b[39m\u001b[38;5;124mvalue\u001b[39m\u001b[38;5;124m'\u001b[39m\u001b[38;5;124m or \u001b[39m\u001b[38;5;124m'\u001b[39m\u001b[38;5;124mmethod\u001b[39m\u001b[38;5;124m'\u001b[39m\u001b[38;5;124m.\u001b[39m\u001b[38;5;124m\"\u001b[39m)\n\u001b[0;32m    294\u001b[0m \u001b[38;5;28;01mif\u001b[39;00m value \u001b[38;5;129;01mis\u001b[39;00m \u001b[38;5;28;01mNone\u001b[39;00m \u001b[38;5;129;01mand\u001b[39;00m method \u001b[38;5;129;01mis\u001b[39;00m \u001b[38;5;129;01mnot\u001b[39;00m \u001b[38;5;28;01mNone\u001b[39;00m:\n\u001b[0;32m    295\u001b[0m     method \u001b[38;5;241m=\u001b[39m clean_fill_method(method)\n",
      "\u001b[1;31mValueError\u001b[0m: Must specify a fill 'value' or 'method'."
     ]
    }
   ],
   "source": [
    "df = df.fillna(0)"
   ]
  },
  {
   "cell_type": "code",
   "execution_count": 560,
   "id": "0e6a32cd-c095-4401-908a-12d1fd086523",
   "metadata": {},
   "outputs": [],
   "source": [
    "df = df.drop(columns=['이식된 배아 수'],axis=1)"
   ]
  },
  {
   "cell_type": "markdown",
   "id": "d366c3e4-5d25-4ea3-9dc9-a43a9a29735c",
   "metadata": {},
   "source": [
    "# 학습 부분"
   ]
  },
  {
   "cell_type": "code",
   "execution_count": 548,
   "id": "912ed5de-1913-470c-8cdd-138527f29042",
   "metadata": {},
   "outputs": [],
   "source": [
    "target = df['임신 성공 여부']\n",
    "df = df.drop(columns=['임신 성공 여부'],axis=1)"
   ]
  },
  {
   "cell_type": "code",
   "execution_count": 588,
   "id": "fe5fd1c9-ed3f-4aab-a1bf-c7cb3c28915d",
   "metadata": {},
   "outputs": [
    {
     "data": {
      "text/plain": [
       "임신 성공 여부\n",
       "0    190123\n",
       "1     66228\n",
       "Name: count, dtype: int64"
      ]
     },
     "execution_count": 588,
     "metadata": {},
     "output_type": "execute_result"
    }
   ],
   "source": [
    "target.value_counts()"
   ]
  },
  {
   "cell_type": "code",
   "execution_count": null,
   "id": "bdb03871-6ddd-4303-a6f1-852361a81b4f",
   "metadata": {},
   "outputs": [
    {
     "name": "stderr",
     "output_type": "stream",
     "text": [
      "[I 2025-02-11 21:08:08,810] A new study created in memory with name: no-name-b8640d61-e678-4ef5-b26b-8df748c273ef\n",
      "[I 2025-02-11 21:08:09,619] Trial 0 finished with value: 0.5073369565217392 and parameters: {'learning_rate': 0.1911974833198578, 'max_depth': 5, 'min_child_weight': 7, 'subsample': 0.55373044848068, 'colsample_bytree': 0.5297015469237234, 'reg_alpha': 0.9690024573026031, 'reg_lambda': 0.7034673648528899, 'n_estimators': 112}. Best is trial 0 with value: 0.5073369565217392.\n"
     ]
    },
    {
     "name": "stdout",
     "output_type": "stream",
     "text": [
      "F1-score: 0.5073369565217392, AUC ROC: 0.7318344625821018\n"
     ]
    },
    {
     "name": "stderr",
     "output_type": "stream",
     "text": [
      "[I 2025-02-11 21:08:10,807] Trial 1 finished with value: 0.5035057484832031 and parameters: {'learning_rate': 0.16029939310427183, 'max_depth': 9, 'min_child_weight': 5, 'subsample': 0.753172061208489, 'colsample_bytree': 0.7278937546742009, 'reg_alpha': 0.8473837795395605, 'reg_lambda': 0.9558021861701217, 'n_estimators': 130}. Best is trial 0 with value: 0.5073369565217392.\n"
     ]
    },
    {
     "name": "stdout",
     "output_type": "stream",
     "text": [
      "F1-score: 0.5035057484832031, AUC ROC: 0.7238135048769674\n"
     ]
    },
    {
     "name": "stderr",
     "output_type": "stream",
     "text": [
      "[I 2025-02-11 21:08:11,968] Trial 2 finished with value: 0.5050849017532557 and parameters: {'learning_rate': 0.20363336592279757, 'max_depth': 6, 'min_child_weight': 2, 'subsample': 0.8448975056984662, 'colsample_bytree': 0.5199346959590508, 'reg_alpha': 0.18767064699593183, 'reg_lambda': 0.35654700304410447, 'n_estimators': 187}. Best is trial 0 with value: 0.5073369565217392.\n"
     ]
    },
    {
     "name": "stdout",
     "output_type": "stream",
     "text": [
      "F1-score: 0.5050849017532557, AUC ROC: 0.7281915989867369\n"
     ]
    },
    {
     "name": "stderr",
     "output_type": "stream",
     "text": [
      "[I 2025-02-11 21:08:13,312] Trial 3 finished with value: 0.5068742602203405 and parameters: {'learning_rate': 0.26280469174510035, 'max_depth': 3, 'min_child_weight': 9, 'subsample': 0.6480683336484855, 'colsample_bytree': 0.7032386452963857, 'reg_alpha': 0.632571040895991, 'reg_lambda': 0.15055915353916516, 'n_estimators': 256}. Best is trial 0 with value: 0.5073369565217392.\n"
     ]
    },
    {
     "name": "stdout",
     "output_type": "stream",
     "text": [
      "F1-score: 0.5068742602203405, AUC ROC: 0.7318673231510507\n"
     ]
    },
    {
     "name": "stderr",
     "output_type": "stream",
     "text": [
      "[I 2025-02-11 21:08:16,362] Trial 4 finished with value: 0.47289461084215567 and parameters: {'learning_rate': 0.20132510240766954, 'max_depth': 10, 'min_child_weight': 1, 'subsample': 0.6407192772103973, 'colsample_bytree': 0.5383705894043205, 'reg_alpha': 0.37954824424930034, 'reg_lambda': 0.04808113351337495, 'n_estimators': 330}. Best is trial 0 with value: 0.5073369565217392.\n"
     ]
    },
    {
     "name": "stdout",
     "output_type": "stream",
     "text": [
      "F1-score: 0.47289461084215567, AUC ROC: 0.6916377032098042\n"
     ]
    },
    {
     "name": "stderr",
     "output_type": "stream",
     "text": [
      "[I 2025-02-11 21:08:17,299] Trial 5 finished with value: 0.5062113924916232 and parameters: {'learning_rate': 0.17897498382965188, 'max_depth': 5, 'min_child_weight': 3, 'subsample': 0.5488677548611443, 'colsample_bytree': 0.716058801411154, 'reg_alpha': 0.31802423262847335, 'reg_lambda': 0.904024869117447, 'n_estimators': 147}. Best is trial 0 with value: 0.5073369565217392.\n"
     ]
    },
    {
     "name": "stdout",
     "output_type": "stream",
     "text": [
      "F1-score: 0.5062113924916232, AUC ROC: 0.7307177015489006\n"
     ]
    },
    {
     "name": "stderr",
     "output_type": "stream",
     "text": [
      "[I 2025-02-11 21:08:19,506] Trial 6 finished with value: 0.5012075850689878 and parameters: {'learning_rate': 0.27252628419155156, 'max_depth': 7, 'min_child_weight': 6, 'subsample': 0.7744074061962065, 'colsample_bytree': 0.7093655789563693, 'reg_alpha': 0.022745773099306477, 'reg_lambda': 0.4545281457604786, 'n_estimators': 321}. Best is trial 0 with value: 0.5073369565217392.\n"
     ]
    },
    {
     "name": "stdout",
     "output_type": "stream",
     "text": [
      "F1-score: 0.5012075850689878, AUC ROC: 0.7171918855305786\n"
     ]
    }
   ],
   "source": [
    "import optuna\n",
    "import pandas as pd\n",
    "from xgboost import XGBClassifier\n",
    "from sklearn.model_selection import train_test_split\n",
    "from sklearn.metrics import f1_score, roc_auc_score\n",
    "\n",
    "\n",
    "# X와 y로 데이터 나누기 (y는 타겟 변수)\n",
    "X = df\n",
    "y = target\n",
    "\n",
    "# 학습용과 테스트용 데이터로 분리\n",
    "X_train, X_test, y_train, y_test = train_test_split(X, y, test_size=0.2, random_state=42)\n",
    "\n",
    "# Optuna 최적화 목표 함수\n",
    "def objective(trial):\n",
    "    class_0 = 190123  # 클래스 0 (임신 실패) 샘플 수\n",
    "    class_1 = 66228    # 클래스 1 (임신 성공) 샘플 수\n",
    "    \n",
    "    # scale_pos_weight 계산\n",
    "    scale_pos_weight = 3.5\n",
    "\n",
    "    # 하이퍼파라미터 설정\n",
    "    params = {\n",
    "        \"objective\": \"binary:logistic\",\n",
    "        \"eval_metric\": \"logloss\", \n",
    "        \"learning_rate\": trial.suggest_float(\"learning_rate\", 0.1, 0.3),\n",
    "        \"max_depth\": trial.suggest_int(\"max_depth\", 3, 10),\n",
    "        \"min_child_weight\": trial.suggest_int(\"min_child_weight\", 1, 10),\n",
    "        \"subsample\": trial.suggest_float(\"subsample\", 0.5, 1.0),\n",
    "        \"colsample_bytree\": trial.suggest_float(\"colsample_bytree\", 0.5, 1.0),\n",
    "        \"reg_alpha\": trial.suggest_float(\"reg_alpha\", 0.0, 1.0),\n",
    "        \"reg_lambda\": trial.suggest_float(\"reg_lambda\", 0.0, 1.0),\n",
    "        \"n_estimators\": trial.suggest_int(\"n_estimators\", 100, 500),\n",
    "        \"scale_pos_weight\": scale_pos_weight\n",
    "    }\n",
    "    \n",
    "    # XGBoost 모델 생성\n",
    "    model = XGBClassifier(**params)\n",
    "    \n",
    "    # 모델 훈련\n",
    "    model.fit(X_train, y_train)\n",
    "    \n",
    "    # 예측\n",
    "    y_pred = model.predict(X_test)\n",
    "    \n",
    "    # F1-score 계산\n",
    "    f1 = f1_score(y_test, y_pred)\n",
    "    \n",
    "    # AUC ROC 계산 (예측 확률을 사용)\n",
    "    y_pred_proba = model.predict_proba(X_test)[:, 1]  # 클래스 1의 확률\n",
    "    auc_roc = roc_auc_score(y_test, y_pred_proba)\n",
    "    \n",
    "    # F1-score와 AUC ROC 점수 출력\n",
    "    print(f'F1-score: {f1}, AUC ROC: {auc_roc}')\n",
    "    \n",
    "    return f1  # F1-score를 최적화 목표로 설정\n",
    "\n",
    "# Optuna 최적화 실행\n",
    "study = optuna.create_study(direction=\"maximize\")\n",
    "study.optimize(objective, n_trials=10)  # n_trials는 실행할 실험의 횟수\n",
    "\n",
    "# 최적 파라미터 및 최적 F1-score 출력\n",
    "print(\"Best hyperparameters: \", study.best_params)\n",
    "print(\"Best F1-score: \", study.best_value)\n"
   ]
  },
  {
   "cell_type": "code",
   "execution_count": 513,
   "id": "9a235f2f-9843-48a7-89dd-e9901c48e51c",
   "metadata": {},
   "outputs": [],
   "source": [
    "df.to_csv('saving.csv',encoding='utf-8-sig')"
   ]
  },
  {
   "cell_type": "code",
   "execution_count": null,
   "id": "fb52b6d4-25cb-4eaf-8a21-cb23b79a4742",
   "metadata": {},
   "outputs": [],
   "source": []
  }
 ],
 "metadata": {
  "kernelspec": {
   "display_name": "Python [conda env:base] *",
   "language": "python",
   "name": "conda-base-py"
  },
  "language_info": {
   "codemirror_mode": {
    "name": "ipython",
    "version": 3
   },
   "file_extension": ".py",
   "mimetype": "text/x-python",
   "name": "python",
   "nbconvert_exporter": "python",
   "pygments_lexer": "ipython3",
   "version": "3.12.3"
  }
 },
 "nbformat": 4,
 "nbformat_minor": 5
}
