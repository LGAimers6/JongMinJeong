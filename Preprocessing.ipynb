{
 "cells": [
  {
   "cell_type": "markdown",
   "id": "b43210c1-f0f0-4ebc-a0c6-ac695bc4ca3b",
   "metadata": {},
   "source": [
    "# 영근팀원님 분석"
   ]
  },
  {
   "cell_type": "code",
   "execution_count": 1,
   "id": "0e87b485-1b02-4b3b-953a-6bead5f99d4f",
   "metadata": {},
   "outputs": [],
   "source": [
    "import pandas as pd\n",
    "df = pd.read_csv(r'C:\\Users\\User\\LG_Aimers\\MainTask\\train.csv')"
   ]
  },
  {
   "cell_type": "code",
   "execution_count": 9,
   "id": "89cc184a-d4fd-4e6f-a715-94e7474678c0",
   "metadata": {},
   "outputs": [
    {
     "data": {
      "text/plain": [
       "저장된 배아 수\n",
       "0.0     166866\n",
       "1.0      20366\n",
       "2.0      19879\n",
       "3.0      13504\n",
       "4.0       9249\n",
       "NaN       6291\n",
       "5.0       5978\n",
       "6.0       4114\n",
       "7.0       2655\n",
       "8.0       1877\n",
       "9.0       1287\n",
       "10.0      1014\n",
       "11.0       634\n",
       "12.0       535\n",
       "13.0       396\n",
       "14.0       345\n",
       "15.0       254\n",
       "16.0       197\n",
       "17.0       179\n",
       "18.0       170\n",
       "20.0       109\n",
       "19.0       100\n",
       "21.0        75\n",
       "22.0        67\n",
       "23.0        67\n",
       "24.0        38\n",
       "25.0        32\n",
       "26.0        16\n",
       "27.0        12\n",
       "30.0         9\n",
       "28.0         8\n",
       "29.0         7\n",
       "32.0         4\n",
       "34.0         3\n",
       "41.0         2\n",
       "51.0         2\n",
       "36.0         2\n",
       "37.0         2\n",
       "31.0         2\n",
       "38.0         1\n",
       "42.0         1\n",
       "33.0         1\n",
       "44.0         1\n",
       "Name: count, dtype: int64"
      ]
     },
     "execution_count": 9,
     "metadata": {},
     "output_type": "execute_result"
    }
   ],
   "source": [
    "df['저장된 배아 수'].value_counts(dropna=False)"
   ]
  },
  {
   "cell_type": "code",
   "execution_count": 11,
   "id": "55580295-c874-441c-8c1e-b4e54ede8d96",
   "metadata": {},
   "outputs": [],
   "source": [
    "# 6291개의 결측치를 갖고 있는 피쳐는 모두 같은 열에서 결측치를 가지고 있음 -> 다 지워보기 \n",
    "df = df.dropna(subset=['저장된 배아 수'])"
   ]
  },
  {
   "cell_type": "code",
   "execution_count": 19,
   "id": "3bd69297-3dc5-42c9-93d2-098366693750",
   "metadata": {},
   "outputs": [
    {
     "data": {
      "text/plain": [
       "동결 배아 사용 여부\n",
       "0.0    209934\n",
       "1.0     40126\n",
       "Name: count, dtype: int64"
      ]
     },
     "execution_count": 19,
     "metadata": {},
     "output_type": "execute_result"
    }
   ],
   "source": [
    "#저장된 배아 수의 결측치 (6291개)를 삭제하니 마찬가지로 동결 배아 사용 여부의 결측치(6291개)도 사라짐 \n",
    "df['동결 배아 사용 여부'].value_counts(dropna=False) "
   ]
  },
  {
   "cell_type": "code",
   "execution_count": null,
   "id": "57e67447-9c16-4b91-ad62-1129438aeb90",
   "metadata": {},
   "outputs": [],
   "source": [
    "#쓸데없는 아이디\n",
    "df = df.drop(columns = ['ID'],axis=1)"
   ]
  },
  {
   "cell_type": "code",
   "execution_count": 21,
   "id": "cd3ad4fc-eed1-4555-a6ed-b6d05abd6ba7",
   "metadata": {},
   "outputs": [],
   "source": [
    "#결측치가 대부분인 피쳐 지우기 > (70%)\n",
    "df = df.drop(columns = ['임신 시도 또는 마지막 임신 경과 연수',\n",
    "                        '착상 전 유전 검사 사용 여부',\n",
    "                        '난자 기증자 나이',\n",
    "                        '정자 기증자 나이',\n",
    "                        'PGD 시술 여부',\n",
    "                        'PGS 시술 여부',\n",
    "                        '난자 해동 경과일',\n",
    "                        '배아 해동 경과일',\n",
    "                       ],axis=1)"
   ]
  },
  {
   "cell_type": "code",
   "execution_count": 27,
   "id": "7709357f-5f37-4225-995d-93b7b5f11ec6",
   "metadata": {},
   "outputs": [],
   "source": [
    "#중간 정도인 결측치 개수 (20%~70%) 및 value가 대부분 0이어서 분별력 없음\n",
    "df = df.drop(columns = ['난자 혼합 경과일',\n",
    "                        '난자 채취 경과일'\n",
    "                       ],axis=1)"
   ]
  },
  {
   "cell_type": "code",
   "execution_count": 37,
   "id": "ad7a5156-582e-4f73-9487-5f61414ea82d",
   "metadata": {},
   "outputs": [
    {
     "data": {
      "text/plain": [
       "Index(['시술 시기 코드', '시술 당시 나이', '시술 유형', '특정 시술 유형', '배란 자극 여부', '배란 유도 유형',\n",
       "       '단일 배아 이식 여부', '착상 전 유전 진단 사용 여부', '남성 주 불임 원인', '남성 부 불임 원인',\n",
       "       '여성 주 불임 원인', '여성 부 불임 원인', '부부 주 불임 원인', '부부 부 불임 원인', '불명확 불임 원인',\n",
       "       '불임 원인 - 난관 질환', '불임 원인 - 남성 요인', '불임 원인 - 배란 장애', '불임 원인 - 여성 요인',\n",
       "       '불임 원인 - 자궁경부 문제', '불임 원인 - 자궁내막증', '불임 원인 - 정자 농도',\n",
       "       '불임 원인 - 정자 면역학적 요인', '불임 원인 - 정자 운동성', '불임 원인 - 정자 형태', '배아 생성 주요 이유',\n",
       "       '총 시술 횟수', '클리닉 내 총 시술 횟수', 'IVF 시술 횟수', 'DI 시술 횟수', '총 임신 횟수',\n",
       "       'IVF 임신 횟수', 'DI 임신 횟수', '총 출산 횟수', 'IVF 출산 횟수', 'DI 출산 횟수',\n",
       "       '총 생성 배아 수', '미세주입된 난자 수', '미세주입에서 생성된 배아 수', '이식된 배아 수',\n",
       "       '미세주입 배아 이식 수', '저장된 배아 수', '미세주입 후 저장된 배아 수', '해동된 배아 수', '해동 난자 수',\n",
       "       '수집된 신선 난자 수', '저장된 신선 난자 수', '혼합된 난자 수', '파트너 정자와 혼합된 난자 수',\n",
       "       '기증자 정자와 혼합된 난자 수', '난자 출처', '정자 출처', '동결 배아 사용 여부', '신선 배아 사용 여부',\n",
       "       '기증 배아 사용 여부', '대리모 여부', '배아 이식 경과일', '임신 성공 여부'],\n",
       "      dtype='object')"
      ]
     },
     "execution_count": 37,
     "metadata": {},
     "output_type": "execute_result"
    }
   ],
   "source": [
    "df.columns"
   ]
  },
  {
   "cell_type": "code",
   "execution_count": null,
   "id": "51ebed1f-c736-4739-a9a2-794ea9eb4e9f",
   "metadata": {},
   "outputs": [],
   "source": [
    "#배아 이식 경과일은 target correlation이 높음 -> \n",
    "#논문에서 상대적으로 정확성이 괜찮았던 K-NN Imputation으로 결측치 대체 \n",
    "\n",
    "#0~7까지이며 7.0은 매우 소수이므로 neighbor=6으로 설정 \n",
    "import pandas as pd\n",
    "from sklearn.impute import KNNImputer\n",
    "\n",
    "# K-NN Imputation 수행\n",
    "df_numeric = df[['배아 이식 경과일']]\n",
    "imputer = KNNImputer(n_neighbors=6)\n",
    "df[['배아 이식 경과일']] = imputer.fit_transform(df_numeric)"
   ]
  },
  {
   "cell_type": "code",
   "execution_count": 45,
   "id": "820a5a0e-e4b4-4b5d-be03-20c39c7fa0ad",
   "metadata": {},
   "outputs": [
    {
     "data": {
      "text/plain": [
       "배아 이식 경과일\n",
       "5.000000    81459\n",
       "3.000000    57924\n",
       "3.254741    37275\n",
       "2.000000    35078\n",
       "0.000000    24904\n",
       "1.000000     6053\n",
       "4.000000     4504\n",
       "6.000000     2773\n",
       "7.000000       90\n",
       "Name: count, dtype: int64"
      ]
     },
     "execution_count": 45,
     "metadata": {},
     "output_type": "execute_result"
    }
   ],
   "source": [
    "#다른 column등을 고려한 3.254741이 결측치로 채워졌음을 알 수 있음\n",
    "#원본데이터에서 43566개인데 37275가 된 이유는 6291개의 결측치를 갖고 있는 피쳐를 지웠기 때문\n",
    "df['배아 이식 경과일'].value_counts(dropna=False)"
   ]
  },
  {
   "cell_type": "code",
   "execution_count": 48,
   "id": "81201052-82e6-424a-b785-cca5ad8a0c0b",
   "metadata": {},
   "outputs": [],
   "source": [
    "df.to_csv('preprocessed.csv',encoding='utf-8-sig')"
   ]
  },
  {
   "cell_type": "code",
   "execution_count": null,
   "id": "71779cba-b04e-4e87-a3e9-25d96c49018e",
   "metadata": {},
   "outputs": [],
   "source": []
  }
 ],
 "metadata": {
  "kernelspec": {
   "display_name": "Python [conda env:base] *",
   "language": "python",
   "name": "conda-base-py"
  },
  "language_info": {
   "codemirror_mode": {
    "name": "ipython",
    "version": 3
   },
   "file_extension": ".py",
   "mimetype": "text/x-python",
   "name": "python",
   "nbconvert_exporter": "python",
   "pygments_lexer": "ipython3",
   "version": "3.12.3"
  }
 },
 "nbformat": 4,
 "nbformat_minor": 5
}
