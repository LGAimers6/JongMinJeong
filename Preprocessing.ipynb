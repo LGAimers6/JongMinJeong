{
 "cells": [
  {
   "cell_type": "markdown",
   "id": "b43210c1-f0f0-4ebc-a0c6-ac695bc4ca3b",
   "metadata": {},
   "source": [
    "# 영근팀원님 분석"
   ]
  },
  {
   "cell_type": "code",
   "execution_count": 1,
   "id": "0e87b485-1b02-4b3b-953a-6bead5f99d4f",
   "metadata": {},
   "outputs": [],
   "source": [
    "import pandas as pd\n",
    "df = pd.read_csv(r'C:\\Users\\User\\LG_Aimers\\MainTask\\train.csv')"
   ]
  },
  {
   "cell_type": "code",
   "execution_count": 3,
   "id": "57e67447-9c16-4b91-ad62-1129438aeb90",
   "metadata": {},
   "outputs": [],
   "source": [
    "#쓸데없는 아이디\n",
    "df = df.drop(columns = ['ID'],axis=1)"
   ]
  },
  {
   "cell_type": "code",
   "execution_count": 5,
   "id": "cd3ad4fc-eed1-4555-a6ed-b6d05abd6ba7",
   "metadata": {},
   "outputs": [],
   "source": [
    "#결측치가 대부분인 피쳐 지우기 > (70%)\n",
    "df = df.drop(columns = ['임신 시도 또는 마지막 임신 경과 연수',\n",
    "                        '착상 전 유전 검사 사용 여부',\n",
    "                        '난자 기증자 나이',\n",
    "                        '정자 기증자 나이',\n",
    "                        'PGD 시술 여부',\n",
    "                        'PGS 시술 여부',\n",
    "                        '난자 해동 경과일',\n",
    "                        '배아 해동 경과일',\n",
    "                       ],axis=1)"
   ]
  },
  {
   "cell_type": "code",
   "execution_count": 7,
   "id": "7709357f-5f37-4225-995d-93b7b5f11ec6",
   "metadata": {},
   "outputs": [],
   "source": [
    "#중간 정도인 결측치 개수 (20%~70%) 및 value가 대부분 0이어서 분별력 없음\n",
    "df = df.drop(columns = ['난자 혼합 경과일',\n",
    "                        '난자 채취 경과일'\n",
    "                       ],axis=1)"
   ]
  },
  {
   "cell_type": "code",
   "execution_count": 9,
   "id": "ad7a5156-582e-4f73-9487-5f61414ea82d",
   "metadata": {},
   "outputs": [
    {
     "data": {
      "text/plain": [
       "Index(['시술 시기 코드', '시술 당시 나이', '시술 유형', '특정 시술 유형', '배란 자극 여부', '배란 유도 유형',\n",
       "       '단일 배아 이식 여부', '착상 전 유전 진단 사용 여부', '남성 주 불임 원인', '남성 부 불임 원인',\n",
       "       '여성 주 불임 원인', '여성 부 불임 원인', '부부 주 불임 원인', '부부 부 불임 원인', '불명확 불임 원인',\n",
       "       '불임 원인 - 난관 질환', '불임 원인 - 남성 요인', '불임 원인 - 배란 장애', '불임 원인 - 여성 요인',\n",
       "       '불임 원인 - 자궁경부 문제', '불임 원인 - 자궁내막증', '불임 원인 - 정자 농도',\n",
       "       '불임 원인 - 정자 면역학적 요인', '불임 원인 - 정자 운동성', '불임 원인 - 정자 형태', '배아 생성 주요 이유',\n",
       "       '총 시술 횟수', '클리닉 내 총 시술 횟수', 'IVF 시술 횟수', 'DI 시술 횟수', '총 임신 횟수',\n",
       "       'IVF 임신 횟수', 'DI 임신 횟수', '총 출산 횟수', 'IVF 출산 횟수', 'DI 출산 횟수',\n",
       "       '총 생성 배아 수', '미세주입된 난자 수', '미세주입에서 생성된 배아 수', '이식된 배아 수',\n",
       "       '미세주입 배아 이식 수', '저장된 배아 수', '미세주입 후 저장된 배아 수', '해동된 배아 수', '해동 난자 수',\n",
       "       '수집된 신선 난자 수', '저장된 신선 난자 수', '혼합된 난자 수', '파트너 정자와 혼합된 난자 수',\n",
       "       '기증자 정자와 혼합된 난자 수', '난자 출처', '정자 출처', '동결 배아 사용 여부', '신선 배아 사용 여부',\n",
       "       '기증 배아 사용 여부', '대리모 여부', '배아 이식 경과일', '임신 성공 여부'],\n",
       "      dtype='object')"
      ]
     },
     "execution_count": 9,
     "metadata": {},
     "output_type": "execute_result"
    }
   ],
   "source": [
    "df.columns"
   ]
  },
  {
   "cell_type": "code",
   "execution_count": 11,
   "id": "51ebed1f-c736-4739-a9a2-794ea9eb4e9f",
   "metadata": {},
   "outputs": [],
   "source": [
    "#배아 이식 경과일은 target correlation이 높음 -> \n",
    "#논문에서 상대적으로 정확성이 괜찮았던 K-NN Imputation으로 결측치 대체 \n",
    "\n",
    "#0~7까지이며 7.0은 매우 소수이므로 neighbor=6으로 설정 \n",
    "import pandas as pd\n",
    "from sklearn.impute import KNNImputer\n",
    "\n",
    "# K-NN Imputation 수행\n",
    "df_numeric = df[['배아 이식 경과일']]\n",
    "imputer = KNNImputer(n_neighbors=6)\n",
    "df[['배아 이식 경과일']] = imputer.fit_transform(df_numeric)"
   ]
  },
  {
   "cell_type": "code",
   "execution_count": 13,
   "id": "820a5a0e-e4b4-4b5d-be03-20c39c7fa0ad",
   "metadata": {},
   "outputs": [
    {
     "data": {
      "text/plain": [
       "배아 이식 경과일\n",
       "5.000000    81459\n",
       "3.000000    57924\n",
       "3.254741    43566\n",
       "2.000000    35078\n",
       "0.000000    24904\n",
       "1.000000     6053\n",
       "4.000000     4504\n",
       "6.000000     2773\n",
       "7.000000       90\n",
       "Name: count, dtype: int64"
      ]
     },
     "execution_count": 13,
     "metadata": {},
     "output_type": "execute_result"
    }
   ],
   "source": [
    "#다른 column등을 고려한 3.254741이 결측치로 채워졌음을 알 수 있음\n",
    "df['배아 이식 경과일'].value_counts(dropna=False)"
   ]
  },
  {
   "cell_type": "code",
   "execution_count": 15,
   "id": "81201052-82e6-424a-b785-cca5ad8a0c0b",
   "metadata": {},
   "outputs": [],
   "source": [
    "df.to_csv('preprocessed.csv',encoding='utf-8-sig')"
   ]
  },
  {
   "cell_type": "code",
   "execution_count": 17,
   "id": "71779cba-b04e-4e87-a3e9-25d96c49018e",
   "metadata": {},
   "outputs": [],
   "source": [
    "age_map = {\n",
    "    \"만18-34세\": 0,\n",
    "    \"만35-37세\": 1,\n",
    "    \"만38-39세\": 2,\n",
    "    \"만40-42세\": 3,\n",
    "    \"만43-44세\": 4,\n",
    "    \"만45-50세\": 5\n",
    "}\n",
    "\n",
    "df['시술 당시 나이'] = df['시술 당시 나이'].map(age_map)"
   ]
  },
  {
   "cell_type": "markdown",
   "id": "d82697d9-1aaa-4c59-a612-e0898af43528",
   "metadata": {},
   "source": [
    "# 25.02.07 진행 "
   ]
  },
  {
   "cell_type": "code",
   "execution_count": 21,
   "id": "50f17bb8-449f-4ef6-b49d-ce62bc26658e",
   "metadata": {},
   "outputs": [
    {
     "data": {
      "text/plain": [
       "시술 당시 나이\n",
       "0.0    102476\n",
       "1.0     57780\n",
       "2.0     39247\n",
       "3.0     37348\n",
       "4.0     12253\n",
       "5.0      6918\n",
       "NaN       329\n",
       "Name: count, dtype: int64"
      ]
     },
     "execution_count": 21,
     "metadata": {},
     "output_type": "execute_result"
    }
   ],
   "source": [
    "df['시술 당시 나이'].value_counts(dropna=False)"
   ]
  },
  {
   "cell_type": "code",
   "execution_count": 24,
   "id": "2b774200-8a1b-4fc9-a15f-e1ba13ad9813",
   "metadata": {},
   "outputs": [
    {
     "name": "stderr",
     "output_type": "stream",
     "text": [
      "C:\\Users\\User\\AppData\\Local\\Temp\\ipykernel_13648\\3138554599.py:3: FutureWarning: A value is trying to be set on a copy of a DataFrame or Series through chained assignment using an inplace method.\n",
      "The behavior will change in pandas 3.0. This inplace method will never work because the intermediate object on which we are setting values always behaves as a copy.\n",
      "\n",
      "For example, when doing 'df[col].method(value, inplace=True)', try using 'df.method({col: value}, inplace=True)' or df[col] = df[col].method(value) instead, to perform the operation inplace on the original object.\n",
      "\n",
      "\n",
      "  df['시술 당시 나이'].fillna(most_frequent, inplace=True)\n"
     ]
    }
   ],
   "source": [
    "#범주형 데이터는 최빈값(Mode)으로 채우는 것이 일반적 -> Nan 329개 최빈값으로 채우기\n",
    "#결측치는 0.133%라 매우 미묘할 것으로 판단 \n",
    "most_frequent = df['시술 당시 나이'].mode()[0]  # 최빈값 찾기\n",
    "df['시술 당시 나이'].fillna(most_frequent, inplace=True)"
   ]
  },
  {
   "cell_type": "code",
   "execution_count": 26,
   "id": "11ee5ee7-d00b-44df-a617-93515e9cd172",
   "metadata": {},
   "outputs": [
    {
     "data": {
      "text/plain": [
       "시술 당시 나이\n",
       "0.0    102805\n",
       "1.0     57780\n",
       "2.0     39247\n",
       "3.0     37348\n",
       "4.0     12253\n",
       "5.0      6918\n",
       "Name: count, dtype: int64"
      ]
     },
     "execution_count": 26,
     "metadata": {},
     "output_type": "execute_result"
    }
   ],
   "source": [
    "df['시술 당시 나이'].value_counts(dropna=False)"
   ]
  },
  {
   "cell_type": "code",
   "execution_count": 32,
   "id": "45c3c878-dff2-4e21-8ef2-0dae2f1ef146",
   "metadata": {},
   "outputs": [
    {
     "data": {
      "text/plain": [
       "시술 시기 코드\n",
       "TRDQAZ    38969\n",
       "TRCMWS    38090\n",
       "TRYBLT    36713\n",
       "TRVNRY    36173\n",
       "TRJXFG    36031\n",
       "TRZKPL    35544\n",
       "TRXQMD    34831\n",
       "Name: count, dtype: int64"
      ]
     },
     "execution_count": 32,
     "metadata": {},
     "output_type": "execute_result"
    }
   ],
   "source": [
    "#GPT / Claude 동시추천\n",
    "#시술 시기 코드는 target encoding으로 전처리\n",
    "#각 시술 코드의 성공률을 기반으로 수치화\n",
    "#성공률이라는 실제 의미 있는 정보를 활용할 수 있음\n",
    "#과적합 방지를 위해 cross-validation 기반의 target encoding 권장\n",
    "df['시술 시기 코드'].value_counts(dropna=False)"
   ]
  },
  {
   "cell_type": "code",
   "execution_count": 38,
   "id": "bc6672a7-804f-4d8d-98f1-d3c0e500f93b",
   "metadata": {},
   "outputs": [],
   "source": [
    "import pandas as pd\n",
    "import numpy as np\n",
    "from sklearn.preprocessing import LabelEncoder, OneHotEncoder\n",
    "from category_encoders import TargetEncoder\n",
    "te = TargetEncoder()\n",
    "df['시술 시기 코드'] = te.fit_transform(df['시술 시기 코드'], df['임신 성공 여부'])"
   ]
  },
  {
   "cell_type": "code",
   "execution_count": 40,
   "id": "da2fbf40-fa76-4f86-9632-efb97db638f3",
   "metadata": {},
   "outputs": [
    {
     "data": {
      "text/plain": [
       "0         0.255120\n",
       "1         0.269087\n",
       "2         0.259779\n",
       "3         0.266271\n",
       "4         0.259779\n",
       "            ...   \n",
       "256346    0.269087\n",
       "256347    0.269087\n",
       "256348    0.259779\n",
       "256349    0.255120\n",
       "256350    0.256122\n",
       "Name: 시술 시기 코드, Length: 256351, dtype: float64"
      ]
     },
     "execution_count": 40,
     "metadata": {},
     "output_type": "execute_result"
    }
   ],
   "source": [
    "#0.269087 (26.9%) → TRYBLT의 성공률\n",
    "#0.266271 (26.6%) → TRJXFG의 성공률\n",
    "#0.259779 (25.9%) → TRVNRY의 성공률\n",
    "#0.255120 (25.5%) → TRZKPL의 성공률\n",
    "df['시술 시기 코드']"
   ]
  },
  {
   "cell_type": "code",
   "execution_count": 46,
   "id": "80ff7e1a-465d-47e3-bf24-bb80167a1a39",
   "metadata": {},
   "outputs": [],
   "source": [
    "#배란 유도 유형 -> 기록되지 않음, 알 수 없음이 대부분이므로 필요 없다 판단\n",
    "df = df.drop(columns = ['배란 유도 유형'],axis=1)"
   ]
  },
  {
   "cell_type": "code",
   "execution_count": 48,
   "id": "d023a978-59d6-453e-8d6f-b9e65966088c",
   "metadata": {},
   "outputs": [],
   "source": [
    "#한글빼기 \n",
    "def removeHangual(tmp):\n",
    "    return int(tmp[0])\n",
    "df.loc[:,['총 시술 횟수']] = df['총 시술 횟수'].apply(removeHangual)\n",
    "df.loc[:,['클리닉 내 총 시술 횟수']] = df['클리닉 내 총 시술 횟수'].apply(removeHangual)\n",
    "df.loc[:,['IVF 시술 횟수']] = df['IVF 시술 횟수'].apply(removeHangual)\n",
    "df.loc[:,['DI 시술 횟수']] = df['DI 시술 횟수'].apply(removeHangual)\n",
    "df.loc[:,['총 임신 횟수']] = df['총 임신 횟수'].apply(removeHangual)\n",
    "df.loc[:,['IVF 임신 횟수']] = df['IVF 임신 횟수'].apply(removeHangual)\n",
    "df.loc[:,['DI 임신 횟수']] = df['DI 임신 횟수'].apply(removeHangual)\n",
    "df.loc[:,['총 출산 횟수']] = df['총 출산 횟수'].apply(removeHangual)\n",
    "df.loc[:,['IVF 출산 횟수']] = df['IVF 출산 횟수'].apply(removeHangual)\n",
    "df.loc[:,['DI 출산 횟수']] = df['DI 출산 횟수'].apply(removeHangual)"
   ]
  },
  {
   "cell_type": "code",
   "execution_count": 54,
   "id": "3730f697-0523-4f7f-a64f-75e0d6ce7db3",
   "metadata": {},
   "outputs": [],
   "source": [
    "#출처는 value variance가 적어 label encoding으로 처리해도 된다고 판단\n",
    "from sklearn.preprocessing import LabelEncoder\n",
    "encoder = LabelEncoder()\n",
    "df.loc[:,'난자 출처'] = encoder.fit_transform(df['난자 출처'])\n",
    "df.loc[:,'정자 출처'] = encoder.fit_transform(df['정자 출처'])"
   ]
  },
  {
   "cell_type": "code",
   "execution_count": 62,
   "id": "d4732bde-d7d8-463d-b457-1063118996d0",
   "metadata": {},
   "outputs": [
    {
     "data": {
      "text/plain": [
       "특정 시술 유형\n",
       "ICSI                                   122368\n",
       "IVF                                     91755\n",
       "Unknown                                 26939\n",
       "IUI                                      6100\n",
       "ICSI:ICSI                                2314\n",
       "ICSI / BLASTOCYST                        1609\n",
       "IVF / BLASTOCYST                         1248\n",
       "IVF:IVF                                  1146\n",
       "ICSI:IVF                                  873\n",
       "ICSI / AH                                 769\n",
       "IVF:ICSI                                  392\n",
       "IVF / AH                                  319\n",
       "ICSI:Unknown                              207\n",
       "IVF:Unknown                               100\n",
       "ICI                                        96\n",
       "Generic DI                                 71\n",
       "IVI                                        23\n",
       "ICSI / BLASTOCYST:IVF / BLASTOCYST          6\n",
       "ICSI / BLASTOCYST :IVF / BLASTOCYST         4\n",
       "FER                                         3\n",
       "IVF / AH:ICSI / AH                          2\n",
       "GIFT                                        2\n",
       "ICSI / AH:Unknown                           2\n",
       "ICSI / BLASTOCYST :ICSI                     1\n",
       "Name: count, dtype: int64"
      ]
     },
     "execution_count": 62,
     "metadata": {},
     "output_type": "execute_result"
    }
   ],
   "source": [
    "df['특정 시술 유형'].value_counts()"
   ]
  },
  {
   "cell_type": "code",
   "execution_count": 76,
   "id": "57596119-6a8b-401b-9fda-98ad85f080bd",
   "metadata": {},
   "outputs": [],
   "source": [
    "import pandas as pd\n",
    "import numpy as np\n",
    "\n",
    "def preprocess_treatment_type(df, treatment_column):\n",
    "    df = df.copy()\n",
    "    \n",
    "    df[treatment_column] = df[treatment_column].fillna('Unknown')\n",
    "    # 기본 시술 타입 추출 (ICSI, IVF, IUI 등)\n",
    "    df['base_treatment'] = df[treatment_column].apply(lambda x: x.split(':')[0].split('/')[0].strip())\n",
    "    \n",
    "    # Blastocyst 사용 여부\n",
    "    df['has_blastocyst'] = df[treatment_column].str.contains('BLASTOCYST', case=False).astype(int)\n",
    "    \n",
    "    # AH(Assisted Hatching) 사용 여부\n",
    "    df['has_ah'] = df[treatment_column].str.contains('AH', case=False).astype(int)\n",
    "    \n",
    "    # 콤비네이션 시술 여부\n",
    "    df['is_combination'] = df[treatment_column].str.contains(':').astype(int)\n",
    "    \n",
    "    # 시술 빈도가 매우 낮은 케이스 처리 (100건 미만)\n",
    "    treatment_counts = df['base_treatment'].value_counts()\n",
    "    rare_treatments = treatment_counts[treatment_counts < 100].index\n",
    "    df['is_rare_treatment'] = df['base_treatment'].isin(rare_treatments).astype(int)\n",
    "    df['base_treatment'] = df['base_treatment'].apply(\n",
    "        lambda x: 'Other' if x in rare_treatments else x\n",
    "    )\n",
    "    \n",
    "    # 주요 시술 타입에 대한 One-hot encoding\n",
    "    major_treatments = ['ICSI', 'IVF', 'IUI']\n",
    "    for treatment in major_treatments:\n",
    "        df[f'is_{treatment.lower()}'] = (df['base_treatment'] == treatment).astype(int)\n",
    "    \n",
    "    # Unknown 처리\n",
    "    df['is_unknown'] = (df['base_treatment'] == 'Unknown').astype(int)\n",
    "    \n",
    "    return df\n"
   ]
  },
  {
   "cell_type": "code",
   "execution_count": 82,
   "id": "bb90b087-8a89-427d-84ea-ec15797657aa",
   "metadata": {},
   "outputs": [],
   "source": [
    "df = preprocess_treatment_type(df,'특정 시술 유형')"
   ]
  },
  {
   "cell_type": "code",
   "execution_count": 88,
   "id": "5689e99e-429f-4059-9cc3-1c8f036f7442",
   "metadata": {},
   "outputs": [],
   "source": [
    "df = df.drop(columns = ['특정 시술 유형','base_treatment'],axis=1)"
   ]
  },
  {
   "cell_type": "code",
   "execution_count": 92,
   "id": "a7229f14-8900-4dfd-8349-eb8f8d63d98c",
   "metadata": {},
   "outputs": [],
   "source": [
    "df = df.drop(columns = ['시술 유형'],axis=1)"
   ]
  },
  {
   "cell_type": "code",
   "execution_count": 94,
   "id": "a4c35258-29f2-479a-b6bc-ac2bfbedf73a",
   "metadata": {},
   "outputs": [
    {
     "data": {
      "text/html": [
       "<div>\n",
       "<style scoped>\n",
       "    .dataframe tbody tr th:only-of-type {\n",
       "        vertical-align: middle;\n",
       "    }\n",
       "\n",
       "    .dataframe tbody tr th {\n",
       "        vertical-align: top;\n",
       "    }\n",
       "\n",
       "    .dataframe thead th {\n",
       "        text-align: right;\n",
       "    }\n",
       "</style>\n",
       "<table border=\"1\" class=\"dataframe\">\n",
       "  <thead>\n",
       "    <tr style=\"text-align: right;\">\n",
       "      <th></th>\n",
       "      <th>시술 시기 코드</th>\n",
       "      <th>시술 당시 나이</th>\n",
       "      <th>배란 자극 여부</th>\n",
       "      <th>단일 배아 이식 여부</th>\n",
       "      <th>착상 전 유전 진단 사용 여부</th>\n",
       "      <th>남성 주 불임 원인</th>\n",
       "      <th>남성 부 불임 원인</th>\n",
       "      <th>여성 주 불임 원인</th>\n",
       "      <th>여성 부 불임 원인</th>\n",
       "      <th>부부 주 불임 원인</th>\n",
       "      <th>...</th>\n",
       "      <th>배아 이식 경과일</th>\n",
       "      <th>임신 성공 여부</th>\n",
       "      <th>has_blastocyst</th>\n",
       "      <th>has_ah</th>\n",
       "      <th>is_combination</th>\n",
       "      <th>is_rare_treatment</th>\n",
       "      <th>is_icsi</th>\n",
       "      <th>is_ivf</th>\n",
       "      <th>is_iui</th>\n",
       "      <th>is_unknown</th>\n",
       "    </tr>\n",
       "  </thead>\n",
       "  <tbody>\n",
       "    <tr>\n",
       "      <th>0</th>\n",
       "      <td>0.255120</td>\n",
       "      <td>0.0</td>\n",
       "      <td>1</td>\n",
       "      <td>0.0</td>\n",
       "      <td>0.0</td>\n",
       "      <td>0</td>\n",
       "      <td>0</td>\n",
       "      <td>0</td>\n",
       "      <td>0</td>\n",
       "      <td>0</td>\n",
       "      <td>...</td>\n",
       "      <td>3.000000</td>\n",
       "      <td>0</td>\n",
       "      <td>0</td>\n",
       "      <td>0</td>\n",
       "      <td>0</td>\n",
       "      <td>0</td>\n",
       "      <td>1</td>\n",
       "      <td>0</td>\n",
       "      <td>0</td>\n",
       "      <td>0</td>\n",
       "    </tr>\n",
       "    <tr>\n",
       "      <th>1</th>\n",
       "      <td>0.269087</td>\n",
       "      <td>5.0</td>\n",
       "      <td>0</td>\n",
       "      <td>0.0</td>\n",
       "      <td>0.0</td>\n",
       "      <td>0</td>\n",
       "      <td>0</td>\n",
       "      <td>0</td>\n",
       "      <td>0</td>\n",
       "      <td>0</td>\n",
       "      <td>...</td>\n",
       "      <td>3.254741</td>\n",
       "      <td>0</td>\n",
       "      <td>0</td>\n",
       "      <td>0</td>\n",
       "      <td>0</td>\n",
       "      <td>0</td>\n",
       "      <td>1</td>\n",
       "      <td>0</td>\n",
       "      <td>0</td>\n",
       "      <td>0</td>\n",
       "    </tr>\n",
       "    <tr>\n",
       "      <th>2</th>\n",
       "      <td>0.259779</td>\n",
       "      <td>0.0</td>\n",
       "      <td>1</td>\n",
       "      <td>0.0</td>\n",
       "      <td>0.0</td>\n",
       "      <td>0</td>\n",
       "      <td>0</td>\n",
       "      <td>0</td>\n",
       "      <td>0</td>\n",
       "      <td>0</td>\n",
       "      <td>...</td>\n",
       "      <td>2.000000</td>\n",
       "      <td>0</td>\n",
       "      <td>0</td>\n",
       "      <td>0</td>\n",
       "      <td>0</td>\n",
       "      <td>0</td>\n",
       "      <td>0</td>\n",
       "      <td>1</td>\n",
       "      <td>0</td>\n",
       "      <td>0</td>\n",
       "    </tr>\n",
       "    <tr>\n",
       "      <th>3</th>\n",
       "      <td>0.266271</td>\n",
       "      <td>1.0</td>\n",
       "      <td>1</td>\n",
       "      <td>0.0</td>\n",
       "      <td>0.0</td>\n",
       "      <td>0</td>\n",
       "      <td>0</td>\n",
       "      <td>0</td>\n",
       "      <td>0</td>\n",
       "      <td>0</td>\n",
       "      <td>...</td>\n",
       "      <td>3.254741</td>\n",
       "      <td>0</td>\n",
       "      <td>0</td>\n",
       "      <td>0</td>\n",
       "      <td>0</td>\n",
       "      <td>0</td>\n",
       "      <td>1</td>\n",
       "      <td>0</td>\n",
       "      <td>0</td>\n",
       "      <td>0</td>\n",
       "    </tr>\n",
       "    <tr>\n",
       "      <th>4</th>\n",
       "      <td>0.259779</td>\n",
       "      <td>0.0</td>\n",
       "      <td>1</td>\n",
       "      <td>0.0</td>\n",
       "      <td>0.0</td>\n",
       "      <td>0</td>\n",
       "      <td>0</td>\n",
       "      <td>0</td>\n",
       "      <td>0</td>\n",
       "      <td>0</td>\n",
       "      <td>...</td>\n",
       "      <td>3.000000</td>\n",
       "      <td>0</td>\n",
       "      <td>0</td>\n",
       "      <td>0</td>\n",
       "      <td>0</td>\n",
       "      <td>0</td>\n",
       "      <td>1</td>\n",
       "      <td>0</td>\n",
       "      <td>0</td>\n",
       "      <td>0</td>\n",
       "    </tr>\n",
       "    <tr>\n",
       "      <th>...</th>\n",
       "      <td>...</td>\n",
       "      <td>...</td>\n",
       "      <td>...</td>\n",
       "      <td>...</td>\n",
       "      <td>...</td>\n",
       "      <td>...</td>\n",
       "      <td>...</td>\n",
       "      <td>...</td>\n",
       "      <td>...</td>\n",
       "      <td>...</td>\n",
       "      <td>...</td>\n",
       "      <td>...</td>\n",
       "      <td>...</td>\n",
       "      <td>...</td>\n",
       "      <td>...</td>\n",
       "      <td>...</td>\n",
       "      <td>...</td>\n",
       "      <td>...</td>\n",
       "      <td>...</td>\n",
       "      <td>...</td>\n",
       "      <td>...</td>\n",
       "    </tr>\n",
       "    <tr>\n",
       "      <th>256346</th>\n",
       "      <td>0.269087</td>\n",
       "      <td>0.0</td>\n",
       "      <td>1</td>\n",
       "      <td>0.0</td>\n",
       "      <td>0.0</td>\n",
       "      <td>0</td>\n",
       "      <td>0</td>\n",
       "      <td>0</td>\n",
       "      <td>0</td>\n",
       "      <td>0</td>\n",
       "      <td>...</td>\n",
       "      <td>5.000000</td>\n",
       "      <td>0</td>\n",
       "      <td>0</td>\n",
       "      <td>0</td>\n",
       "      <td>0</td>\n",
       "      <td>0</td>\n",
       "      <td>1</td>\n",
       "      <td>0</td>\n",
       "      <td>0</td>\n",
       "      <td>0</td>\n",
       "    </tr>\n",
       "    <tr>\n",
       "      <th>256347</th>\n",
       "      <td>0.269087</td>\n",
       "      <td>2.0</td>\n",
       "      <td>1</td>\n",
       "      <td>0.0</td>\n",
       "      <td>0.0</td>\n",
       "      <td>0</td>\n",
       "      <td>0</td>\n",
       "      <td>0</td>\n",
       "      <td>0</td>\n",
       "      <td>0</td>\n",
       "      <td>...</td>\n",
       "      <td>3.000000</td>\n",
       "      <td>1</td>\n",
       "      <td>0</td>\n",
       "      <td>0</td>\n",
       "      <td>0</td>\n",
       "      <td>0</td>\n",
       "      <td>1</td>\n",
       "      <td>0</td>\n",
       "      <td>0</td>\n",
       "      <td>0</td>\n",
       "    </tr>\n",
       "    <tr>\n",
       "      <th>256348</th>\n",
       "      <td>0.259779</td>\n",
       "      <td>1.0</td>\n",
       "      <td>1</td>\n",
       "      <td>0.0</td>\n",
       "      <td>0.0</td>\n",
       "      <td>0</td>\n",
       "      <td>0</td>\n",
       "      <td>0</td>\n",
       "      <td>0</td>\n",
       "      <td>0</td>\n",
       "      <td>...</td>\n",
       "      <td>3.000000</td>\n",
       "      <td>0</td>\n",
       "      <td>0</td>\n",
       "      <td>0</td>\n",
       "      <td>0</td>\n",
       "      <td>0</td>\n",
       "      <td>1</td>\n",
       "      <td>0</td>\n",
       "      <td>0</td>\n",
       "      <td>0</td>\n",
       "    </tr>\n",
       "    <tr>\n",
       "      <th>256349</th>\n",
       "      <td>0.255120</td>\n",
       "      <td>2.0</td>\n",
       "      <td>1</td>\n",
       "      <td>0.0</td>\n",
       "      <td>0.0</td>\n",
       "      <td>0</td>\n",
       "      <td>0</td>\n",
       "      <td>0</td>\n",
       "      <td>0</td>\n",
       "      <td>0</td>\n",
       "      <td>...</td>\n",
       "      <td>1.000000</td>\n",
       "      <td>1</td>\n",
       "      <td>0</td>\n",
       "      <td>0</td>\n",
       "      <td>0</td>\n",
       "      <td>0</td>\n",
       "      <td>1</td>\n",
       "      <td>0</td>\n",
       "      <td>0</td>\n",
       "      <td>0</td>\n",
       "    </tr>\n",
       "    <tr>\n",
       "      <th>256350</th>\n",
       "      <td>0.256122</td>\n",
       "      <td>1.0</td>\n",
       "      <td>0</td>\n",
       "      <td>0.0</td>\n",
       "      <td>0.0</td>\n",
       "      <td>0</td>\n",
       "      <td>0</td>\n",
       "      <td>0</td>\n",
       "      <td>0</td>\n",
       "      <td>0</td>\n",
       "      <td>...</td>\n",
       "      <td>0.000000</td>\n",
       "      <td>1</td>\n",
       "      <td>0</td>\n",
       "      <td>0</td>\n",
       "      <td>0</td>\n",
       "      <td>0</td>\n",
       "      <td>0</td>\n",
       "      <td>1</td>\n",
       "      <td>0</td>\n",
       "      <td>0</td>\n",
       "    </tr>\n",
       "  </tbody>\n",
       "</table>\n",
       "<p>256351 rows × 63 columns</p>\n",
       "</div>"
      ],
      "text/plain": [
       "        시술 시기 코드  시술 당시 나이  배란 자극 여부  단일 배아 이식 여부  착상 전 유전 진단 사용 여부  \\\n",
       "0       0.255120       0.0         1          0.0               0.0   \n",
       "1       0.269087       5.0         0          0.0               0.0   \n",
       "2       0.259779       0.0         1          0.0               0.0   \n",
       "3       0.266271       1.0         1          0.0               0.0   \n",
       "4       0.259779       0.0         1          0.0               0.0   \n",
       "...          ...       ...       ...          ...               ...   \n",
       "256346  0.269087       0.0         1          0.0               0.0   \n",
       "256347  0.269087       2.0         1          0.0               0.0   \n",
       "256348  0.259779       1.0         1          0.0               0.0   \n",
       "256349  0.255120       2.0         1          0.0               0.0   \n",
       "256350  0.256122       1.0         0          0.0               0.0   \n",
       "\n",
       "        남성 주 불임 원인  남성 부 불임 원인  여성 주 불임 원인  여성 부 불임 원인  부부 주 불임 원인  ...  \\\n",
       "0                0           0           0           0           0  ...   \n",
       "1                0           0           0           0           0  ...   \n",
       "2                0           0           0           0           0  ...   \n",
       "3                0           0           0           0           0  ...   \n",
       "4                0           0           0           0           0  ...   \n",
       "...            ...         ...         ...         ...         ...  ...   \n",
       "256346           0           0           0           0           0  ...   \n",
       "256347           0           0           0           0           0  ...   \n",
       "256348           0           0           0           0           0  ...   \n",
       "256349           0           0           0           0           0  ...   \n",
       "256350           0           0           0           0           0  ...   \n",
       "\n",
       "        배아 이식 경과일  임신 성공 여부  has_blastocyst  has_ah  is_combination  \\\n",
       "0        3.000000         0               0       0               0   \n",
       "1        3.254741         0               0       0               0   \n",
       "2        2.000000         0               0       0               0   \n",
       "3        3.254741         0               0       0               0   \n",
       "4        3.000000         0               0       0               0   \n",
       "...           ...       ...             ...     ...             ...   \n",
       "256346   5.000000         0               0       0               0   \n",
       "256347   3.000000         1               0       0               0   \n",
       "256348   3.000000         0               0       0               0   \n",
       "256349   1.000000         1               0       0               0   \n",
       "256350   0.000000         1               0       0               0   \n",
       "\n",
       "        is_rare_treatment  is_icsi  is_ivf  is_iui  is_unknown  \n",
       "0                       0        1       0       0           0  \n",
       "1                       0        1       0       0           0  \n",
       "2                       0        0       1       0           0  \n",
       "3                       0        1       0       0           0  \n",
       "4                       0        1       0       0           0  \n",
       "...                   ...      ...     ...     ...         ...  \n",
       "256346                  0        1       0       0           0  \n",
       "256347                  0        1       0       0           0  \n",
       "256348                  0        1       0       0           0  \n",
       "256349                  0        1       0       0           0  \n",
       "256350                  0        0       1       0           0  \n",
       "\n",
       "[256351 rows x 63 columns]"
      ]
     },
     "execution_count": 94,
     "metadata": {},
     "output_type": "execute_result"
    }
   ],
   "source": [
    "df"
   ]
  },
  {
   "cell_type": "code",
   "execution_count": 100,
   "id": "c5375649-b801-46a4-8258-d58536186da6",
   "metadata": {},
   "outputs": [],
   "source": [
    "#현재 시술용의 분포가 압도적으로 많아 모델에 악영향이 있을꺼라 판단\n",
    "df['배아 생성 주요 이유'].value_counts(dropna=False)\n",
    "df = df.drop(columns = ['배아 생성 주요 이유'],axis=1)"
   ]
  },
  {
   "cell_type": "code",
   "execution_count": 102,
   "id": "13ade1ac-74b3-4370-88fc-bb93df815a74",
   "metadata": {},
   "outputs": [],
   "source": [
    "df.to_csv('preprocessed_tmp.csv',encoding = 'utf-8-sig')"
   ]
  },
  {
   "cell_type": "code",
   "execution_count": 104,
   "id": "89b3ad4d-bc8e-443d-91f0-28ac01c8a6b3",
   "metadata": {},
   "outputs": [
    {
     "name": "stdout",
     "output_type": "stream",
     "text": [
      "Index(['단일 배아 이식 여부', '착상 전 유전 진단 사용 여부', '총 생성 배아 수', '미세주입된 난자 수',\n",
      "       '미세주입에서 생성된 배아 수', '이식된 배아 수', '미세주입 배아 이식 수', '저장된 배아 수',\n",
      "       '미세주입 후 저장된 배아 수', '해동된 배아 수', '해동 난자 수', '수집된 신선 난자 수', '저장된 신선 난자 수',\n",
      "       '혼합된 난자 수', '파트너 정자와 혼합된 난자 수', '기증자 정자와 혼합된 난자 수', '동결 배아 사용 여부',\n",
      "       '신선 배아 사용 여부', '기증 배아 사용 여부', '대리모 여부'],\n",
      "      dtype='object')\n"
     ]
    }
   ],
   "source": [
    "#결측치가 있는 feature \n",
    "missing_columns = df.columns[df.isnull().any()]\n",
    "print(missing_columns)"
   ]
  },
  {
   "cell_type": "code",
   "execution_count": 114,
   "id": "e4f1a923-5cdb-41ac-8af1-6a8cd17bc46e",
   "metadata": {},
   "outputs": [
    {
     "data": {
      "image/png": "[encoded data removed]",
      "text/plain": [
       "<Figure size 1000x600 with 1 Axes>"
      ]
     },
     "metadata": {},
     "output_type": "display_data"
    }
   ],
   "source": [
    "import matplotlib.pyplot as plt\n",
    "\n",
    "missing_data = df[['단일 배아 이식 여부', '착상 전 유전 진단 사용 여부', '총 생성 배아 수', '미세주입된 난자 수',\n",
    "                   '미세주입에서 생성된 배아 수', '이식된 배아 수', '미세주입 배아 이식 수', '저장된 배아 수',\n",
    "                   '미세주입 후 저장된 배아 수', '해동된 배아 수', '해동 난자 수', '수집된 신선 난자 수', \n",
    "                   '저장된 신선 난자 수', '혼합된 난자 수', '파트너 정자와 혼합된 난자 수', \n",
    "                   '기증자 정자와 혼합된 난자 수', '동결 배아 사용 여부', '신선 배아 사용 여부', \n",
    "                   '기증 배아 사용 여부', '대리모 여부']].isnull().sum()\n",
    "\n",
    "plt.rcParams['font.family'] = 'Malgun Gothic'\n",
    "\n",
    "plt.figure(figsize=(10, 6))\n",
    "missing_data.plot(kind='bar')\n",
    "plt.title('Missing Data Count for Each Feature')\n",
    "plt.xlabel('Features')\n",
    "plt.ylabel('Missing Data Count')\n",
    "plt.xticks(rotation=90)\n",
    "plt.show()"
   ]
  },
  {
   "cell_type": "code",
   "execution_count": null,
   "id": "62b04189-d731-48c7-be12-4ad121fa7d50",
   "metadata": {},
   "outputs": [],
   "source": []
  }
 ],
 "metadata": {
  "kernelspec": {
   "display_name": "Python [conda env:base] *",
   "language": "python",
   "name": "conda-base-py"
  },
  "language_info": {
   "codemirror_mode": {
    "name": "ipython",
    "version": 3
   },
   "file_extension": ".py",
   "mimetype": "text/x-python",
   "name": "python",
   "nbconvert_exporter": "python",
   "pygments_lexer": "ipython3",
   "version": "3.12.3"
  }
 },
 "nbformat": 4,
 "nbformat_minor": 5
}
